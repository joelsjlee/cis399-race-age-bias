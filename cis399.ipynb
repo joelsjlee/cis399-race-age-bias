{
 "cells": [
  {
   "cell_type": "code",
   "execution_count": 162,
   "metadata": {},
   "outputs": [],
   "source": [
    "import os\n",
    "import csv"
   ]
  },
  {
   "cell_type": "code",
   "execution_count": 163,
   "metadata": {},
   "outputs": [],
   "source": [
    "# #random scribbling\n",
    "# with open(\"propublica_full.csv\", \"r\", encoding='utf-8') as file:\n",
    "#     csvreader = csv.DictReader(file)\n",
    "#     for row in csvreader:\n",
    "#         #print(row[\"age_cat\"])\n",
    "        \n"
   ]
  },
  {
   "cell_type": "code",
   "execution_count": 165,
   "metadata": {},
   "outputs": [],
   "source": [
    "def error(x,y,z):\n",
    "    error = 0\n",
    "    false_positive = 0\n",
    "    false_positive_less25 = 0\n",
    "    false_negative_less25 = 0\n",
    "    ppv_less25 = 0\n",
    "    false_positive_25_45 = 0\n",
    "    false_negative_25_45 = 0\n",
    "    ppv_25_45 = 0\n",
    "    false_positive_great45 = 0\n",
    "    false_negative_great45 = 0\n",
    "    ppv_great45 = 0\n",
    "    count = 6172\n",
    "    with open(\"propublica_full.csv\", \"r\", encoding='utf-8') as file:\n",
    "        csvreader = csv.DictReader(file)\n",
    "        for row in csvreader:\n",
    "            if row[\"age_cat\"] == \"Less than 25\":\n",
    "                if int(row[\"decile_score\"]) >= x:      \n",
    "                    if row[\"is_recid\"] == \"0\":\n",
    "                        error += 1\n",
    "                        false_positive_less25 += 1\n",
    "                    elif row[\"is_recid\"] == \"1\":\n",
    "                        ppv_less25 += 1\n",
    "                elif int(row[\"decile_score\"]) <= x:\n",
    "                    if row[\"is_recid\"] == \"1\":\n",
    "                        error += 1\n",
    "                        false_negative_less25 += 1\n",
    "            if row[\"age_cat\"] == \"25 - 45\":\n",
    "                if int(row[\"decile_score\"]) >= y:      \n",
    "                    if row[\"is_recid\"] == \"0\":\n",
    "                        error += 1\n",
    "                        false_positive_25_45 += 1\n",
    "                    elif row[\"is_recid\"] == \"1\":\n",
    "                        ppv_25_45 += 1\n",
    "                elif int(row[\"decile_score\"]) <= y:\n",
    "                    if row[\"is_recid\"] == \"1\":\n",
    "                        error += 1\n",
    "                        false_negative_25_45 += 1\n",
    "            if row[\"age_cat\"] == \"Greater than 45\":\n",
    "                if int(row[\"decile_score\"]) >= z:      \n",
    "                    if row[\"is_recid\"] == \"0\":\n",
    "                        error += 1\n",
    "                        false_positive_great45 += 1\n",
    "                    elif row[\"is_recid\"] == \"1\":\n",
    "                        ppv_great45 += 1\n",
    "                elif int(row[\"decile_score\"]) <= z:\n",
    "                    if row[\"is_recid\"] == \"1\":\n",
    "                        error += 1\n",
    "                        false_negative_great45 += 1\n",
    "                        \n",
    "    if false_positive_less25 == 0 and ppv_less25 == 0:\n",
    "        ppv_less25 += 1\n",
    "    if false_positive_25_45 == 0 and ppv_25_45 == 0:\n",
    "        ppv_25_45 += 1\n",
    "    if false_positive_great45 == 0 and ppv_great45 == 0:\n",
    "        ppv_great45 += 1\n",
    "    try:\n",
    "        return {'totalerror' : 100*error/count, \n",
    "                'fp_low_mid': 100*abs((false_positive_less25/(false_positive_less25 + ppv_less25)\n",
    "                                        - false_positive_25_45/(false_positive_25_45 + ppv_25_45))),\n",
    "                'fp_mid_high': 100*abs((false_positive_25_45/(false_positive_25_45 + ppv_25_45)\n",
    "                                        - false_positive_great45/(false_positive_great45 + ppv_great45))),\n",
    "                'fp_low_high': 100*abs((false_positive_less25/(false_positive_less25 + ppv_less25)\n",
    "                                        - false_positive_great45/(false_positive_great45 + ppv_great45)))}\n",
    "        #return [100*error/count, 100*abs((false_positive_less25/(false_positive_less25 + ppv_less25) - false_positive_25_45/(false_positive_25_45 + ppv_25_45)))]\n",
    "    except ZeroDivisionError:\n",
    "        return [100*error/count,0]\n",
    "    \n",
    "    \n",
    "                    \n"
   ]
  },
  {
   "cell_type": "code",
   "execution_count": 166,
   "metadata": {},
   "outputs": [
    {
     "data": {
      "text/plain": [
       "{'totalerror': 39.43616331821128,\n",
       " 'fp_low_mid': 13.747502849509146,\n",
       " 'fp_mid_high': 1.3176545203802403,\n",
       " 'fp_low_high': 12.429848329128907}"
      ]
     },
     "execution_count": 166,
     "metadata": {},
     "output_type": "execute_result"
    }
   ],
   "source": [
    "error(6,2,3)"
   ]
  },
  {
   "cell_type": "code",
   "execution_count": 167,
   "metadata": {},
   "outputs": [],
   "source": [
    "def errorFunc(x1, x2, x3, y):\n",
    " for i in range(11):\n",
    "     for j in range(11):\n",
    "         for k in range(11):\n",
    "            returned = error(i,j,k)\n",
    "            x1.append(returned[\"fp_low_mid\"])\n",
    "            x2.append(returned[\"fp_mid_high\"])\n",
    "            x3.append(returned[\"fp_low_high\"])\n",
    "            y.append(returned[\"totalerror\"])"
   ]
  },
  {
   "cell_type": "code",
   "execution_count": 168,
   "metadata": {},
   "outputs": [],
   "source": [
    "total_error = []\n",
    "fp_low_mid = []\n",
    "fp_mid_high = []\n",
    "fp_low_high = []\n",
    "errorFunc(fp_low_mid, fp_mid_high, fp_low_high, total_error)\n"
   ]
  },
  {
   "cell_type": "code",
   "execution_count": 174,
   "metadata": {},
   "outputs": [],
   "source": [
    "from bokeh.plotting import figure, output_file, show\n",
    "from bokeh.models import ColumnDataSource\n",
    "\n",
    "# output to static HTML file\n",
    "output_file(\"line.html\")\n",
    "\n",
    "data = {'x_values': total_error,\n",
    "        'y_values': fp_low_high}\n",
    "\n",
    "\n",
    "source = ColumnDataSource(data=data)\n",
    "\n",
    "p = figure(plot_width=600, plot_height=600)\n",
    "\n",
    "# add a circle renderer with a size, color, and alpha\n",
    "p.circle(x='x_values', y='y_values', size=5, source=source, color=\"navy\", alpha=0.5)\n",
    "\n",
    "# show the results\n",
    "show(p)"
   ]
  },
  {
   "cell_type": "code",
   "execution_count": null,
   "metadata": {},
   "outputs": [],
   "source": []
  }
 ],
 "metadata": {
  "kernelspec": {
   "display_name": "Python 3",
   "language": "python",
   "name": "python3"
  },
  "language_info": {
   "codemirror_mode": {
    "name": "ipython",
    "version": 3
   },
   "file_extension": ".py",
   "mimetype": "text/x-python",
   "name": "python",
   "nbconvert_exporter": "python",
   "pygments_lexer": "ipython3",
   "version": "3.7.1"
  }
 },
 "nbformat": 4,
 "nbformat_minor": 2
}
