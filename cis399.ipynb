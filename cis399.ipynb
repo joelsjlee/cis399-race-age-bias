{
 "cells": [
  {
   "cell_type": "code",
   "execution_count": 7,
   "metadata": {},
   "outputs": [],
   "source": [
    "import os\n",
    "import csv\n",
    "import statistics"
   ]
  },
  {
   "cell_type": "code",
   "execution_count": 29,
   "metadata": {},
   "outputs": [],
   "source": [
    "def error(x,y,z):\n",
    "    error = 0\n",
    "    false_positive = 0\n",
    "    false_positive_less25 = 0\n",
    "    false_negative_less25 = 0\n",
    "    ppv_less25 = 0\n",
    "    false_positive_25_45 = 0\n",
    "    false_negative_25_45 = 0\n",
    "    ppv_25_45 = 0\n",
    "    false_positive_great45 = 0\n",
    "    false_negative_great45 = 0\n",
    "    ppv_great45 = 0\n",
    "    count = 0\n",
    "    with open(\"propublica_full.csv\", \"r\", encoding='utf-8') as file:\n",
    "        csvreader = csv.DictReader(file)\n",
    "        for row in csvreader:\n",
    "            if row[\"age_cat\"] == \"Less than 25\":\n",
    "                count += 1\n",
    "                if int(row[\"decile_score\"]) > x:      \n",
    "                    if row[\"is_recid\"] == \"0\":\n",
    "                        error += 1\n",
    "                        false_positive_less25 += 1\n",
    "                    elif row[\"is_recid\"] == \"1\":\n",
    "                        ppv_less25 += 1\n",
    "                elif int(row[\"decile_score\"]) < x:\n",
    "                    if row[\"is_recid\"] == \"1\":\n",
    "                        error += 1\n",
    "                        false_negative_less25 += 1\n",
    "            if row[\"age_cat\"] == \"25 - 45\":\n",
    "                count += 1\n",
    "                if int(row[\"decile_score\"]) > y:      \n",
    "                    if row[\"is_recid\"] == \"0\":\n",
    "                        error += 1\n",
    "                        false_positive_25_45 += 1\n",
    "                    elif row[\"is_recid\"] == \"1\":\n",
    "                        ppv_25_45 += 1\n",
    "                elif int(row[\"decile_score\"]) < y:\n",
    "                    if row[\"is_recid\"] == \"1\":\n",
    "                        error += 1\n",
    "                        false_negative_25_45 += 1\n",
    "            if row[\"age_cat\"] == \"Greater than 45\":\n",
    "                if int(row[\"decile_score\"]) > z:      \n",
    "                    if row[\"is_recid\"] == \"0\":\n",
    "                        error += 1\n",
    "                        false_positive_great45 += 1\n",
    "                    elif row[\"is_recid\"] == \"1\":\n",
    "                        ppv_great45 += 1\n",
    "                elif int(row[\"decile_score\"]) < z:\n",
    "                    if row[\"is_recid\"] == \"1\":\n",
    "                        error += 1\n",
    "                        false_negative_great45 += 1\n",
    "                        \n",
    "    if false_positive_less25 == 0 and ppv_less25 == 0:\n",
    "        ppv_less25 += 1\n",
    "    if false_positive_25_45 == 0 and ppv_25_45 == 0:\n",
    "        ppv_25_45 += 1\n",
    "    if false_positive_great45 == 0 and ppv_great45 == 0:\n",
    "        ppv_great45 += 1\n",
    "        \n",
    "    fp_low_mid = 100*abs((false_positive_less25/(false_positive_less25 + ppv_less25)\n",
    "                                        - false_positive_25_45/(false_positive_25_45 + ppv_25_45)))\n",
    "    fp_mid_high = 100*abs((false_positive_25_45/(false_positive_25_45 + ppv_25_45)\n",
    "                                        - false_positive_great45/(false_positive_great45 + ppv_great45)))\n",
    "    fp_low_high = 100*abs((false_positive_less25/(false_positive_less25 + ppv_less25)\n",
    "                                        - false_positive_great45/(false_positive_great45 + ppv_great45)))\n",
    "    try:\n",
    "        return {'totalerror' : 100*error/count, \n",
    "                'fp_low_mid': fp_low_mid,\n",
    "                'fp_mid_high': fp_mid_high,\n",
    "                'fp_low_high': fp_low_high,\n",
    "                'lowest': min(fp_low_mid, fp_mid_high, fp_low_high),\n",
    "                'highest': max(fp_low_mid, fp_mid_high, fp_low_high),\n",
    "                'average': statistics.mean([fp_low_mid, fp_mid_high, fp_low_high])}\n",
    "        #return [100*error/count, 100*abs((false_positive_less25/(false_positive_less25 + ppv_less25) - false_positive_25_45/(false_positive_25_45 + ppv_25_45)))]\n",
    "    except ZeroDivisionError:\n",
    "        return [100*error/count,0]\n",
    "    \n",
    "    \n",
    "                    \n"
   ]
  },
  {
   "cell_type": "code",
   "execution_count": 11,
   "metadata": {},
   "outputs": [],
   "source": [
    "def low_mid(x,y, group1, group2):\n",
    "    error = 0\n",
    "    false_positive_group1 = 0\n",
    "    false_negative_group1 = 0\n",
    "    ppv_group1 = 0\n",
    "    false_positive_group2 = 0\n",
    "    false_negative_group2 = 0\n",
    "    ppv_group2 = 0\n",
    "    count = 0 \n",
    "    with open(\"propublica_full.csv\", \"r\", encoding='utf-8') as file:\n",
    "        csvreader = csv.DictReader(file)\n",
    "        for row in csvreader:\n",
    "            if row[\"age_cat\"] == group1: \n",
    "                count += 1\n",
    "                if int(row[\"decile_score\"]) > x: \n",
    "                    if row[\"is_recid\"] == \"0\":\n",
    "                        error += 1\n",
    "                        false_positive_group1 += 1\n",
    "                    elif row[\"is_recid\"] == \"1\":\n",
    "                        ppv_group1 += 1\n",
    "                elif int(row[\"decile_score\"]) < x: \n",
    "                    if row[\"is_recid\"] == \"1\":\n",
    "                        error += 1\n",
    "                        false_negative_group1 += 1\n",
    "            if row[\"age_cat\"] == group2: \n",
    "                count += 1\n",
    "                if int(row[\"decile_score\"]) > y:    \n",
    "                    if row[\"is_recid\"] == \"0\":\n",
    "                        error += 1\n",
    "                        false_positive_group2 += 1\n",
    "                    elif row[\"is_recid\"] == \"1\":\n",
    "                        ppv_group2 += 1\n",
    "                elif int(row[\"decile_score\"]) < y: \n",
    "                    if row[\"is_recid\"] == \"1\":\n",
    "                        error += 1\n",
    "                        false_negative_group2 += 1\n",
    "    if false_positive_group1 == 0 and ppv_group1 == 0:\n",
    "        ppv_group1 += 1\n",
    "    if false_positive_group2 == 0 and ppv_group2 == 0:\n",
    "        ppv_group2 += 1\n",
    "    return [100*error/count, 100*abs((false_positive_group1/(false_positive_group1 + ppv_group1)\n",
    "                                      - false_positive_group2/(false_positive_group2 + ppv_group2)))]"
   ]
  },
  {
   "cell_type": "code",
   "execution_count": 50,
   "metadata": {
    "scrolled": true
   },
   "outputs": [
    {
     "data": {
      "text/plain": [
       "{'totalerror': 31.36746597537265,\n",
       " 'fp_low_mid': 11.417135836557884,\n",
       " 'fp_mid_high': 0.07579277364007098,\n",
       " 'fp_low_high': 11.492928610197955,\n",
       " 'lowest': 0.07579277364007098,\n",
       " 'highest': 11.492928610197955,\n",
       " 'average': 7.661952406798637}"
      ]
     },
     "execution_count": 50,
     "metadata": {},
     "output_type": "execute_result"
    }
   ],
   "source": [
    "error(6,2,3)"
   ]
  },
  {
   "cell_type": "code",
   "execution_count": 12,
   "metadata": {},
   "outputs": [],
   "source": [
    "def errorFunc(x1, x2, x3, x4, x5, x6, y):\n",
    " for i in range(11):\n",
    "     for j in range(11):\n",
    "         for k in range(11):\n",
    "            returned = error(i,j,k)\n",
    "            x1.append(returned[\"fp_low_mid\"])\n",
    "            x2.append(returned[\"fp_mid_high\"])\n",
    "            x3.append(returned[\"fp_low_high\"])\n",
    "            x4.append(returned[\"lowest\"])\n",
    "            x5.append(returned[\"highest\"])\n",
    "            x6.append(returned[\"average\"])\n",
    "            y.append(returned[\"totalerror\"])\n",
    "\n",
    "def errorFuncTwo(x, y, group1, group2): \n",
    " for i in range(11): \n",
    "     for j in range(11): \n",
    "        returned = low_mid(i, j, \"Less than 25\", \"25 - 45\")\n",
    "        x.append(returned[0])\n",
    "        y.append(returned[1])"
   ]
  },
  {
   "cell_type": "code",
   "execution_count": 13,
   "metadata": {},
   "outputs": [],
   "source": [
    "lowmiderror = []\n",
    "lowmidfp = []\n",
    "arr = errorFuncTwo(lowmiderror, lowmidfp)"
   ]
  },
  {
   "cell_type": "code",
   "execution_count": 32,
   "metadata": {},
   "outputs": [],
   "source": [
    "total_error = []\n",
    "fp_low_mid = []\n",
    "fp_mid_high = []\n",
    "fp_low_high = []\n",
    "fp_lowest = []\n",
    "fp_highest = []\n",
    "fp_average = []\n",
    "errorFunc(fp_low_mid, fp_mid_high, fp_low_high, fp_lowest, fp_highest, fp_average, total_error)\n"
   ]
  },
  {
   "cell_type": "code",
   "execution_count": 14,
   "metadata": {},
   "outputs": [],
   "source": [
    "from bokeh.plotting import figure, output_file, show\n",
    "from bokeh.models import ColumnDataSource\n",
    "\n",
    "# output to static HTML file\n",
    "output_file(\"line.html\")\n",
    "\n",
    "data = {'x_values': lowmiderror,\n",
    "        'y_values': lowmidfp}\n",
    "\n",
    "\n",
    "source = ColumnDataSource(data=data)\n",
    "\n",
    "p = figure(plot_width=600, plot_height=600)\n",
    "\n",
    "# add a circle renderer with a size, color, and alpha\n",
    "p.circle(x='x_values', y='y_values', size=5, source=source, color=\"navy\", alpha=0.5)\n",
    "\n",
    "# show the results\n",
    "show(p)"
   ]
  },
  {
   "cell_type": "code",
   "execution_count": null,
   "metadata": {},
   "outputs": [],
   "source": []
  },
  {
   "cell_type": "code",
   "execution_count": null,
   "metadata": {},
   "outputs": [],
   "source": []
  }
 ],
 "metadata": {
  "kernelspec": {
   "display_name": "Python 3",
   "language": "python",
   "name": "python3"
  },
  "language_info": {
   "codemirror_mode": {
    "name": "ipython",
    "version": 3
   },
   "file_extension": ".py",
   "mimetype": "text/x-python",
   "name": "python",
   "nbconvert_exporter": "python",
   "pygments_lexer": "ipython3",
   "version": "3.7.1"
  }
 },
 "nbformat": 4,
 "nbformat_minor": 2
}
